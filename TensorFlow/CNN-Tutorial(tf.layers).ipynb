{
 "cells": [
  {
   "cell_type": "code",
   "execution_count": 1,
   "metadata": {
    "collapsed": true
   },
   "outputs": [],
   "source": [
    "import os \n",
    "os.environ[\"CUDA_DEVICE_ORDER\"] = \"PCI_BUS_ID\"  # see issue #152\n",
    "os.environ[\"CUDA_VISIBLE_DEVICES\"] = '-1' # for using only cpu\n",
    "import tensorflow as tf\n",
    "import numpy as np"
   ]
  },
  {
   "cell_type": "code",
   "execution_count": 2,
   "metadata": {},
   "outputs": [
    {
     "name": "stdout",
     "output_type": "stream",
     "text": [
      "Extracting MNIST/train-images-idx3-ubyte.gz\n",
      "Extracting MNIST/train-labels-idx1-ubyte.gz\n",
      "Extracting MNIST/t10k-images-idx3-ubyte.gz\n",
      "Extracting MNIST/t10k-labels-idx1-ubyte.gz\n"
     ]
    }
   ],
   "source": [
    "from tensorflow.examples.tutorials.mnist import input_data\n",
    "mnist = input_data.read_data_sets('MNIST/', one_hot=True)"
   ]
  },
  {
   "cell_type": "code",
   "execution_count": 3,
   "metadata": {
    "collapsed": true
   },
   "outputs": [],
   "source": [
    "images = tf.placeholder(shape=[None, 784], dtype=tf.float32)\n",
    "reshape_images = tf.reshape(images, [-1, 28, 28, 1])\n",
    "labels = tf.placeholder(shape=[None, 10], dtype=tf.float32)\n",
    "\n",
    "training = tf.placeholder(tf.bool)"
   ]
  },
  {
   "cell_type": "code",
   "execution_count": 5,
   "metadata": {},
   "outputs": [],
   "source": [
    "# Model Architecture(Network)\n",
    "conv1 = tf.layers.conv2d(reshape_images, 32, [3, 3], activation=tf.nn.relu)\n",
    "pool1 = tf.layers.max_pooling2d(conv1, [3, 3], [2, 2])\n",
    "\n",
    "conv2 = tf.layers.conv2d(pool1, 64, [3, 3], activation=tf.nn.relu)\n",
    "pool2 = tf.layers.max_pooling2d(conv2, [3, 3], [2, 2])\n",
    "\n",
    "flatten_feature = tf.contrib.layers.flatten(pool2)\n",
    "dense1 = tf.layers.dense(flatten_feature, 1024, activation=tf.nn.relu)\n",
    "drop1 = tf.layers.dropout(dense1, 0.5, training=training)\n",
    "\n",
    "logits = tf.layers.dense(drop1, 10, activation=None)\n",
    "cost = tf.nn.softmax_cross_entropy_with_logits(logits=logits, labels=labels)\n",
    "\n",
    "LEARNING_RATE = 1e-4\n",
    "opt = tf.train.AdamOptimizer(LEARNING_RATE).minimize(cost)"
   ]
  },
  {
   "cell_type": "markdown",
   "metadata": {},
   "source": [
    "각 함수 parameter\n",
    "\n",
    "tf.layers.conv2d(input_vector, output_channel, [kernel_width, kernel_height], ...)\n",
    "\n",
    "tf.layers.max_pooling2d(input_vector, [kernel_width, kernel_height], [strides_along_width, strides_along_height], ...)\n",
    "\n",
    "tf.layers.dense(input_vector, output_channel, ...)\n",
    "\n",
    "tf.layers.dropout(input_vector, drop_ratio, training, ...)"
   ]
  },
  {
   "cell_type": "code",
   "execution_count": 6,
   "metadata": {
    "collapsed": true
   },
   "outputs": [],
   "source": [
    "sess = tf.Session()\n",
    "sess.run(tf.global_variables_initializer())"
   ]
  },
  {
   "cell_type": "code",
   "execution_count": 7,
   "metadata": {},
   "outputs": [
    {
     "data": {
      "text/plain": [
       "859"
      ]
     },
     "execution_count": 7,
     "metadata": {},
     "output_type": "execute_result"
    }
   ],
   "source": [
    "MAX_EPOCH = 10\n",
    "BATCH_SIZE = 64\n",
    "total_batch = int(mnist.train.num_examples/BATCH_SIZE)\n",
    "total_batch"
   ]
  },
  {
   "cell_type": "code",
   "execution_count": 8,
   "metadata": {
    "scrolled": true
   },
   "outputs": [
    {
     "name": "stdout",
     "output_type": "stream",
     "text": [
      "Test accuracy: [ 2.26618767  2.51381183  2.3304944  ...,  2.36248589  2.47254705\n",
      "  2.25476646]\n",
      "Test accuracy: [ 0.19004999  0.7404108   0.12458982 ...,  0.84763896  1.49897373\n",
      "  0.79925632]\n",
      "Test accuracy: [ 0.00415652  0.28783059  0.01576156 ...,  0.17863193  0.45476639\n",
      "  0.06421856]\n",
      "Test accuracy: [ 0.00066652  0.05786695  0.00508397 ...,  0.02074625  0.22643431\n",
      "  0.00784578]\n",
      "Test accuracy: [ 0.00050091  0.01817501  0.00484115 ...,  0.02794873  0.08017522\n",
      "  0.00562952]\n",
      "Test accuracy: [ 0.00033742  0.01405802  0.00425066 ...,  0.01462842  0.09017809\n",
      "  0.00371089]\n",
      "Test accuracy: [ 0.00045051  0.00855944  0.00317771 ...,  0.00952792  0.03295648\n",
      "  0.00340727]\n",
      "Test accuracy: [ 0.00012242  0.0098108   0.00216892 ...,  0.00364984  0.07420675\n",
      "  0.00279679]\n",
      "Test accuracy: [ 0.00011503  0.0082651   0.0034858  ...,  0.00388522  0.04897175\n",
      "  0.00216298]\n",
      "Epoch: 0 completed\n",
      "Test accuracy: [ 0.00027021  0.00419309  0.00369105 ...,  0.00309798  0.03848245\n",
      "  0.00097906]\n",
      "Test accuracy: [ 0.00010728  0.0032559   0.00405454 ...,  0.00237326  0.02187447\n",
      "  0.00065424]\n",
      "Test accuracy: [ 0.00014912  0.00100372  0.00321313 ...,  0.00078099  0.01759773\n",
      "  0.00620119]\n",
      "Test accuracy: [ 0.00021598  0.00272261  0.00215037 ...,  0.00129425  0.0020395\n",
      "  0.00120948]\n",
      "Test accuracy: [ 0.00019942  0.00152817  0.00223185 ...,  0.00038616  0.02686519\n",
      "  0.00112435]\n",
      "Test accuracy: [  6.86621934e-05   2.73936940e-03   2.17844034e-03 ...,   3.66382243e-04\n",
      "   2.63201213e-03   1.86888478e-03]\n",
      "Test accuracy: [ 0.00010418  0.00090117  0.00150912 ...,  0.00050913  0.00228371\n",
      "  0.00229298]\n",
      "Test accuracy: [  6.78277866e-05   1.84532511e-03   2.37813708e-03 ...,   5.26170596e-04\n",
      "   1.17804727e-03   9.62271064e-04]\n",
      "Test accuracy: [  4.79209848e-05   1.34472991e-03   3.90184647e-03 ...,   2.98455503e-04\n",
      "   1.42481858e-02   2.95714504e-04]\n",
      "Epoch: 1 completed\n",
      "Test accuracy: [ 0.00014983  0.00120079  0.00331056 ...,  0.000108    0.00269348\n",
      "  0.00134556]\n",
      "Test accuracy: [ 0.00020728  0.00191993  0.00253202 ...,  0.00022206  0.00188257\n",
      "  0.00049281]\n",
      "Test accuracy: [  8.46350158e-05   5.05716214e-03   3.75922350e-03 ...,   1.01441961e-04\n",
      "   3.65185691e-03   2.47209508e-04]\n",
      "Test accuracy: [  7.84366348e-05   3.43423779e-03   1.31556252e-03 ...,   1.87856189e-04\n",
      "   6.95676077e-03   2.58412329e-04]\n",
      "Test accuracy: [  2.77753788e-05   4.55532456e-03   2.23815115e-03 ...,   2.72952020e-04\n",
      "   3.84591613e-03   1.16780738e-03]\n",
      "Test accuracy: [  3.70734015e-05   3.66123999e-03   2.80855712e-03 ...,   3.29012219e-05\n",
      "   1.33263832e-02   9.02373577e-05]\n",
      "Test accuracy: [  2.92058503e-05   2.10956577e-03   1.28317962e-03 ...,   1.31955981e-04\n",
      "   1.71657023e-03   1.01322759e-04]\n",
      "Test accuracy: [  3.02787012e-05   1.22674531e-03   2.72760005e-03 ...,   1.48285355e-04\n",
      "   6.24342531e-04   4.39904717e-04]\n",
      "Test accuracy: [  3.87422697e-05   2.24540662e-03   6.33634976e-04 ...,   1.66283135e-04\n",
      "   4.54799214e-04   1.35412585e-04]\n",
      "Epoch: 2 completed\n",
      "Test accuracy: [  2.69409356e-05   1.84008956e-03   6.08259172e-04 ...,   1.02157144e-04\n",
      "   2.31058476e-03   1.30048880e-04]\n",
      "Test accuracy: [  1.15632338e-05   1.27996504e-03   2.44627940e-03 ...,   2.18486748e-04\n",
      "   4.74564917e-03   5.02579263e-04]\n",
      "Test accuracy: [ 0.00013923  0.00098633  0.00150436 ...,  0.00027486  0.00233663\n",
      "  0.00041893]\n",
      "Test accuracy: [  2.16103086e-04   2.04366096e-03   1.34008704e-03 ...,   2.21466325e-04\n",
      "   2.14251666e-03   8.96413694e-05]\n",
      "Test accuracy: [  3.64773769e-05   1.37758686e-03   1.00359612e-03 ...,   3.01594955e-05\n",
      "   2.41690618e-03   7.36686270e-05]\n",
      "Test accuracy: [  2.63449056e-05   7.87067576e-04   3.89009085e-03 ...,   1.28976128e-04\n",
      "   5.90031093e-04   3.65786400e-04]\n"
     ]
    },
    {
     "ename": "KeyboardInterrupt",
     "evalue": "",
     "output_type": "error",
     "traceback": [
      "\u001b[0;31m---------------------------------------------------------------------------\u001b[0m",
      "\u001b[0;31mKeyboardInterrupt\u001b[0m                         Traceback (most recent call last)",
      "\u001b[0;32m<ipython-input-8-5165ef111671>\u001b[0m in \u001b[0;36m<module>\u001b[0;34m()\u001b[0m\n\u001b[1;32m      3\u001b[0m     \u001b[0;32mfor\u001b[0m \u001b[0mi\u001b[0m \u001b[0;32min\u001b[0m \u001b[0mrange\u001b[0m\u001b[0;34m(\u001b[0m\u001b[0mtotal_batch\u001b[0m\u001b[0;34m)\u001b[0m\u001b[0;34m:\u001b[0m\u001b[0;34m\u001b[0m\u001b[0m\n\u001b[1;32m      4\u001b[0m         \u001b[0mbatch\u001b[0m \u001b[0;34m=\u001b[0m \u001b[0mmnist\u001b[0m\u001b[0;34m.\u001b[0m\u001b[0mtrain\u001b[0m\u001b[0;34m.\u001b[0m\u001b[0mnext_batch\u001b[0m\u001b[0;34m(\u001b[0m\u001b[0mbatch_size\u001b[0m\u001b[0;34m=\u001b[0m\u001b[0mBATCH_SIZE\u001b[0m\u001b[0;34m,\u001b[0m \u001b[0mshuffle\u001b[0m\u001b[0;34m=\u001b[0m\u001b[0;32mTrue\u001b[0m\u001b[0;34m)\u001b[0m\u001b[0;34m\u001b[0m\u001b[0m\n\u001b[0;32m----> 5\u001b[0;31m         \u001b[0m_\u001b[0m\u001b[0;34m,\u001b[0m \u001b[0mloss\u001b[0m \u001b[0;34m=\u001b[0m \u001b[0msess\u001b[0m\u001b[0;34m.\u001b[0m\u001b[0mrun\u001b[0m\u001b[0;34m(\u001b[0m\u001b[0;34m[\u001b[0m\u001b[0mopt\u001b[0m\u001b[0;34m,\u001b[0m \u001b[0mcost\u001b[0m\u001b[0;34m]\u001b[0m\u001b[0;34m,\u001b[0m \u001b[0mfeed_dict\u001b[0m\u001b[0;34m=\u001b[0m\u001b[0;34m{\u001b[0m\u001b[0mimages\u001b[0m\u001b[0;34m:\u001b[0m \u001b[0mbatch\u001b[0m\u001b[0;34m[\u001b[0m\u001b[0;36m0\u001b[0m\u001b[0;34m]\u001b[0m\u001b[0;34m,\u001b[0m \u001b[0mlabels\u001b[0m\u001b[0;34m:\u001b[0m \u001b[0mbatch\u001b[0m\u001b[0;34m[\u001b[0m\u001b[0;36m1\u001b[0m\u001b[0;34m]\u001b[0m\u001b[0;34m,\u001b[0m \u001b[0mtraining\u001b[0m\u001b[0;34m:\u001b[0m \u001b[0;32mTrue\u001b[0m\u001b[0;34m}\u001b[0m\u001b[0;34m)\u001b[0m\u001b[0;34m\u001b[0m\u001b[0m\n\u001b[0m\u001b[1;32m      6\u001b[0m \u001b[0;34m\u001b[0m\u001b[0m\n\u001b[1;32m      7\u001b[0m         \u001b[0;32mif\u001b[0m \u001b[0mi\u001b[0m \u001b[0;34m%\u001b[0m \u001b[0;36m100\u001b[0m \u001b[0;34m==\u001b[0m \u001b[0;36m0\u001b[0m\u001b[0;34m:\u001b[0m\u001b[0;34m\u001b[0m\u001b[0m\n",
      "\u001b[0;32m~/anaconda3/lib/python3.6/site-packages/tensorflow/python/client/session.py\u001b[0m in \u001b[0;36mrun\u001b[0;34m(self, fetches, feed_dict, options, run_metadata)\u001b[0m\n\u001b[1;32m    893\u001b[0m     \u001b[0;32mtry\u001b[0m\u001b[0;34m:\u001b[0m\u001b[0;34m\u001b[0m\u001b[0m\n\u001b[1;32m    894\u001b[0m       result = self._run(None, fetches, feed_dict, options_ptr,\n\u001b[0;32m--> 895\u001b[0;31m                          run_metadata_ptr)\n\u001b[0m\u001b[1;32m    896\u001b[0m       \u001b[0;32mif\u001b[0m \u001b[0mrun_metadata\u001b[0m\u001b[0;34m:\u001b[0m\u001b[0;34m\u001b[0m\u001b[0m\n\u001b[1;32m    897\u001b[0m         \u001b[0mproto_data\u001b[0m \u001b[0;34m=\u001b[0m \u001b[0mtf_session\u001b[0m\u001b[0;34m.\u001b[0m\u001b[0mTF_GetBuffer\u001b[0m\u001b[0;34m(\u001b[0m\u001b[0mrun_metadata_ptr\u001b[0m\u001b[0;34m)\u001b[0m\u001b[0;34m\u001b[0m\u001b[0m\n",
      "\u001b[0;32m~/anaconda3/lib/python3.6/site-packages/tensorflow/python/client/session.py\u001b[0m in \u001b[0;36m_run\u001b[0;34m(self, handle, fetches, feed_dict, options, run_metadata)\u001b[0m\n\u001b[1;32m   1122\u001b[0m     \u001b[0;32mif\u001b[0m \u001b[0mfinal_fetches\u001b[0m \u001b[0;32mor\u001b[0m \u001b[0mfinal_targets\u001b[0m \u001b[0;32mor\u001b[0m \u001b[0;34m(\u001b[0m\u001b[0mhandle\u001b[0m \u001b[0;32mand\u001b[0m \u001b[0mfeed_dict_tensor\u001b[0m\u001b[0;34m)\u001b[0m\u001b[0;34m:\u001b[0m\u001b[0;34m\u001b[0m\u001b[0m\n\u001b[1;32m   1123\u001b[0m       results = self._do_run(handle, final_targets, final_fetches,\n\u001b[0;32m-> 1124\u001b[0;31m                              feed_dict_tensor, options, run_metadata)\n\u001b[0m\u001b[1;32m   1125\u001b[0m     \u001b[0;32melse\u001b[0m\u001b[0;34m:\u001b[0m\u001b[0;34m\u001b[0m\u001b[0m\n\u001b[1;32m   1126\u001b[0m       \u001b[0mresults\u001b[0m \u001b[0;34m=\u001b[0m \u001b[0;34m[\u001b[0m\u001b[0;34m]\u001b[0m\u001b[0;34m\u001b[0m\u001b[0m\n",
      "\u001b[0;32m~/anaconda3/lib/python3.6/site-packages/tensorflow/python/client/session.py\u001b[0m in \u001b[0;36m_do_run\u001b[0;34m(self, handle, target_list, fetch_list, feed_dict, options, run_metadata)\u001b[0m\n\u001b[1;32m   1319\u001b[0m     \u001b[0;32mif\u001b[0m \u001b[0mhandle\u001b[0m \u001b[0;32mis\u001b[0m \u001b[0;32mNone\u001b[0m\u001b[0;34m:\u001b[0m\u001b[0;34m\u001b[0m\u001b[0m\n\u001b[1;32m   1320\u001b[0m       return self._do_call(_run_fn, self._session, feeds, fetches, targets,\n\u001b[0;32m-> 1321\u001b[0;31m                            options, run_metadata)\n\u001b[0m\u001b[1;32m   1322\u001b[0m     \u001b[0;32melse\u001b[0m\u001b[0;34m:\u001b[0m\u001b[0;34m\u001b[0m\u001b[0m\n\u001b[1;32m   1323\u001b[0m       \u001b[0;32mreturn\u001b[0m \u001b[0mself\u001b[0m\u001b[0;34m.\u001b[0m\u001b[0m_do_call\u001b[0m\u001b[0;34m(\u001b[0m\u001b[0m_prun_fn\u001b[0m\u001b[0;34m,\u001b[0m \u001b[0mself\u001b[0m\u001b[0;34m.\u001b[0m\u001b[0m_session\u001b[0m\u001b[0;34m,\u001b[0m \u001b[0mhandle\u001b[0m\u001b[0;34m,\u001b[0m \u001b[0mfeeds\u001b[0m\u001b[0;34m,\u001b[0m \u001b[0mfetches\u001b[0m\u001b[0;34m)\u001b[0m\u001b[0;34m\u001b[0m\u001b[0m\n",
      "\u001b[0;32m~/anaconda3/lib/python3.6/site-packages/tensorflow/python/client/session.py\u001b[0m in \u001b[0;36m_do_call\u001b[0;34m(self, fn, *args)\u001b[0m\n\u001b[1;32m   1325\u001b[0m   \u001b[0;32mdef\u001b[0m \u001b[0m_do_call\u001b[0m\u001b[0;34m(\u001b[0m\u001b[0mself\u001b[0m\u001b[0;34m,\u001b[0m \u001b[0mfn\u001b[0m\u001b[0;34m,\u001b[0m \u001b[0;34m*\u001b[0m\u001b[0margs\u001b[0m\u001b[0;34m)\u001b[0m\u001b[0;34m:\u001b[0m\u001b[0;34m\u001b[0m\u001b[0m\n\u001b[1;32m   1326\u001b[0m     \u001b[0;32mtry\u001b[0m\u001b[0;34m:\u001b[0m\u001b[0;34m\u001b[0m\u001b[0m\n\u001b[0;32m-> 1327\u001b[0;31m       \u001b[0;32mreturn\u001b[0m \u001b[0mfn\u001b[0m\u001b[0;34m(\u001b[0m\u001b[0;34m*\u001b[0m\u001b[0margs\u001b[0m\u001b[0;34m)\u001b[0m\u001b[0;34m\u001b[0m\u001b[0m\n\u001b[0m\u001b[1;32m   1328\u001b[0m     \u001b[0;32mexcept\u001b[0m \u001b[0merrors\u001b[0m\u001b[0;34m.\u001b[0m\u001b[0mOpError\u001b[0m \u001b[0;32mas\u001b[0m \u001b[0me\u001b[0m\u001b[0;34m:\u001b[0m\u001b[0;34m\u001b[0m\u001b[0m\n\u001b[1;32m   1329\u001b[0m       \u001b[0mmessage\u001b[0m \u001b[0;34m=\u001b[0m \u001b[0mcompat\u001b[0m\u001b[0;34m.\u001b[0m\u001b[0mas_text\u001b[0m\u001b[0;34m(\u001b[0m\u001b[0me\u001b[0m\u001b[0;34m.\u001b[0m\u001b[0mmessage\u001b[0m\u001b[0;34m)\u001b[0m\u001b[0;34m\u001b[0m\u001b[0m\n",
      "\u001b[0;32m~/anaconda3/lib/python3.6/site-packages/tensorflow/python/client/session.py\u001b[0m in \u001b[0;36m_run_fn\u001b[0;34m(session, feed_dict, fetch_list, target_list, options, run_metadata)\u001b[0m\n\u001b[1;32m   1304\u001b[0m           return tf_session.TF_Run(session, options,\n\u001b[1;32m   1305\u001b[0m                                    \u001b[0mfeed_dict\u001b[0m\u001b[0;34m,\u001b[0m \u001b[0mfetch_list\u001b[0m\u001b[0;34m,\u001b[0m \u001b[0mtarget_list\u001b[0m\u001b[0;34m,\u001b[0m\u001b[0;34m\u001b[0m\u001b[0m\n\u001b[0;32m-> 1306\u001b[0;31m                                    status, run_metadata)\n\u001b[0m\u001b[1;32m   1307\u001b[0m \u001b[0;34m\u001b[0m\u001b[0m\n\u001b[1;32m   1308\u001b[0m     \u001b[0;32mdef\u001b[0m \u001b[0m_prun_fn\u001b[0m\u001b[0;34m(\u001b[0m\u001b[0msession\u001b[0m\u001b[0;34m,\u001b[0m \u001b[0mhandle\u001b[0m\u001b[0;34m,\u001b[0m \u001b[0mfeed_dict\u001b[0m\u001b[0;34m,\u001b[0m \u001b[0mfetch_list\u001b[0m\u001b[0;34m)\u001b[0m\u001b[0;34m:\u001b[0m\u001b[0;34m\u001b[0m\u001b[0m\n",
      "\u001b[0;31mKeyboardInterrupt\u001b[0m: "
     ]
    }
   ],
   "source": [
    "total_loss = 0\n",
    "for epoch in range(MAX_EPOCH):    \n",
    "    for i in range(total_batch):\n",
    "        batch = mnist.train.next_batch(batch_size=BATCH_SIZE, shuffle=True)\n",
    "        _, loss = sess.run([opt, cost], feed_dict={images: batch[0], labels: batch[1], training: True})\n",
    "    \n",
    "        if i % 100 == 0:\n",
    "            test_acc = sess.run(cost,\n",
    "                 feed_dict={images: mnist.test.images, labels: mnist.test.labels, training:False}\n",
    "            )\n",
    "            print('Test accuracy: {}'.format(test_acc))\n",
    "        total_loss += loss\n",
    "    print('{} epochs completed'.format(epoch))"
   ]
  },
  {
   "cell_type": "code",
   "execution_count": null,
   "metadata": {
    "collapsed": true
   },
   "outputs": [],
   "source": []
  },
  {
   "cell_type": "code",
   "execution_count": null,
   "metadata": {
    "collapsed": true
   },
   "outputs": [],
   "source": []
  },
  {
   "cell_type": "code",
   "execution_count": null,
   "metadata": {
    "collapsed": true
   },
   "outputs": [],
   "source": []
  },
  {
   "cell_type": "code",
   "execution_count": null,
   "metadata": {
    "collapsed": true
   },
   "outputs": [],
   "source": []
  },
  {
   "cell_type": "code",
   "execution_count": null,
   "metadata": {
    "collapsed": true
   },
   "outputs": [],
   "source": []
  },
  {
   "cell_type": "code",
   "execution_count": null,
   "metadata": {
    "collapsed": true
   },
   "outputs": [],
   "source": []
  }
 ],
 "metadata": {
  "kernelspec": {
   "display_name": "Python 3",
   "language": "python",
   "name": "python3"
  },
  "language_info": {
   "codemirror_mode": {
    "name": "ipython",
    "version": 3
   },
   "file_extension": ".py",
   "mimetype": "text/x-python",
   "name": "python",
   "nbconvert_exporter": "python",
   "pygments_lexer": "ipython3",
   "version": "3.6.1"
  }
 },
 "nbformat": 4,
 "nbformat_minor": 2
}
