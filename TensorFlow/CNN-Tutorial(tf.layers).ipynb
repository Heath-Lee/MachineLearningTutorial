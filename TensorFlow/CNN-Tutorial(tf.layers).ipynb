{
 "cells": [
  {
   "cell_type": "code",
   "execution_count": 1,
<<<<<<< HEAD
   "metadata": {},
   "outputs": [
    {
     "name": "stderr",
     "output_type": "stream",
     "text": [
      "C:\\Users\\yangyangii\\Anaconda3\\lib\\site-packages\\h5py\\__init__.py:34: FutureWarning: Conversion of the second argument of issubdtype from `float` to `np.floating` is deprecated. In future, it will be treated as `np.float64 == np.dtype(float).type`.\n",
      "  from ._conv import register_converters as _register_converters\n"
     ]
    }
   ],
=======
   "metadata": {
    "collapsed": true
   },
   "outputs": [],
>>>>>>> 84fb67b013429bde055bc839ce58a43c261abf96
   "source": [
    "import os \n",
    "os.environ[\"CUDA_DEVICE_ORDER\"] = \"PCI_BUS_ID\"  # see issue #152\n",
    "os.environ[\"CUDA_VISIBLE_DEVICES\"] = '-1' # for using only cpu\n",
    "import tensorflow as tf\n",
    "import numpy as np"
   ]
  },
  {
   "cell_type": "code",
   "execution_count": 2,
<<<<<<< HEAD
   "metadata": {
    "scrolled": true
   },
=======
   "metadata": {},
>>>>>>> 84fb67b013429bde055bc839ce58a43c261abf96
   "outputs": [
    {
     "name": "stdout",
     "output_type": "stream",
     "text": [
<<<<<<< HEAD
      "WARNING:tensorflow:From C:\\Users\\yangyangii\\Anaconda3\\lib\\site-packages\\tensorflow\\contrib\\learn\\python\\learn\\datasets\\base.py:198: retry (from tensorflow.contrib.learn.python.learn.datasets.base) is deprecated and will be removed in a future version.\n",
      "Instructions for updating:\n",
      "Use the retry module or similar alternatives.\n",
      "WARNING:tensorflow:From <ipython-input-2-eab89fb9e1bd>:1: load_dataset (from tensorflow.contrib.learn.python.learn.datasets) is deprecated and will be removed in a future version.\n",
      "Instructions for updating:\n",
      "Please use tf.data.\n",
      "WARNING:tensorflow:From C:\\Users\\yangyangii\\Anaconda3\\lib\\site-packages\\tensorflow\\contrib\\learn\\python\\learn\\datasets\\__init__.py:80: load_mnist (from tensorflow.contrib.learn.python.learn.datasets.mnist) is deprecated and will be removed in a future version.\n",
      "Instructions for updating:\n",
      "Please use alternatives such as official/mnist/dataset.py from tensorflow/models.\n",
      "WARNING:tensorflow:From C:\\Users\\yangyangii\\Anaconda3\\lib\\site-packages\\tensorflow\\contrib\\learn\\python\\learn\\datasets\\mnist.py:300: read_data_sets (from tensorflow.contrib.learn.python.learn.datasets.mnist) is deprecated and will be removed in a future version.\n",
      "Instructions for updating:\n",
      "Please use alternatives such as official/mnist/dataset.py from tensorflow/models.\n",
      "WARNING:tensorflow:From C:\\Users\\yangyangii\\Anaconda3\\lib\\site-packages\\tensorflow\\contrib\\learn\\python\\learn\\datasets\\mnist.py:260: maybe_download (from tensorflow.contrib.learn.python.learn.datasets.base) is deprecated and will be removed in a future version.\n",
      "Instructions for updating:\n",
      "Please write your own downloading logic.\n",
      "WARNING:tensorflow:From C:\\Users\\yangyangii\\Anaconda3\\lib\\site-packages\\tensorflow\\contrib\\learn\\python\\learn\\datasets\\mnist.py:262: extract_images (from tensorflow.contrib.learn.python.learn.datasets.mnist) is deprecated and will be removed in a future version.\n",
      "Instructions for updating:\n",
      "Please use tf.data to implement this functionality.\n",
      "Extracting MNIST-data\\train-images-idx3-ubyte.gz\n",
      "WARNING:tensorflow:From C:\\Users\\yangyangii\\Anaconda3\\lib\\site-packages\\tensorflow\\contrib\\learn\\python\\learn\\datasets\\mnist.py:267: extract_labels (from tensorflow.contrib.learn.python.learn.datasets.mnist) is deprecated and will be removed in a future version.\n",
      "Instructions for updating:\n",
      "Please use tf.data to implement this functionality.\n",
      "Extracting MNIST-data\\train-labels-idx1-ubyte.gz\n",
      "Extracting MNIST-data\\t10k-images-idx3-ubyte.gz\n",
      "Extracting MNIST-data\\t10k-labels-idx1-ubyte.gz\n",
      "WARNING:tensorflow:From C:\\Users\\yangyangii\\Anaconda3\\lib\\site-packages\\tensorflow\\contrib\\learn\\python\\learn\\datasets\\mnist.py:290: DataSet.__init__ (from tensorflow.contrib.learn.python.learn.datasets.mnist) is deprecated and will be removed in a future version.\n",
      "Instructions for updating:\n",
      "Please use alternatives such as official/mnist/dataset.py from tensorflow/models.\n"
=======
      "Extracting MNIST/train-images-idx3-ubyte.gz\n",
      "Extracting MNIST/train-labels-idx1-ubyte.gz\n",
      "Extracting MNIST/t10k-images-idx3-ubyte.gz\n",
      "Extracting MNIST/t10k-labels-idx1-ubyte.gz\n"
>>>>>>> 84fb67b013429bde055bc839ce58a43c261abf96
     ]
    }
   ],
   "source": [
<<<<<<< HEAD
    "mnist = tf.contrib.learn.datasets.load_dataset('mnist')"
=======
    "from tensorflow.examples.tutorials.mnist import input_data\n",
    "mnist = input_data.read_data_sets('MNIST/', one_hot=True)"
>>>>>>> 84fb67b013429bde055bc839ce58a43c261abf96
   ]
  },
  {
   "cell_type": "code",
   "execution_count": 3,
   "metadata": {
    "collapsed": true
   },
   "outputs": [],
   "source": [
<<<<<<< HEAD
    "def my_cnn(features, labels, mode):\n",
    "    # Model Architecture(Network)\n",
    "    reshape_images = tf.reshape(features, [-1, 28, 28, 1])\n",
    "\n",
    "    conv1 = tf.layers.conv2d(reshape_images, 32, [3, 3], activation=tf.nn.relu)\n",
    "    pool1 = tf.layers.max_pooling2d(conv1, [3, 3], [2, 2])\n",
    "\n",
    "    conv2 = tf.layers.conv2d(pool1, 64, [3, 3], activation=tf.nn.relu)\n",
    "    pool2 = tf.layers.max_pooling2d(conv2, [3, 3], [2, 2])\n",
    "\n",
    "    flatten_feature = tf.contrib.layers.flatten(pool2)\n",
    "    dense1 = tf.layers.dense(flatten_feature, 1024, activation=tf.nn.relu)\n",
    "    drop1 = tf.layers.dropout(dense1, 0.5, training = (mode == tf.estimator.ModeKeys.TRAIN))\n",
    "\n",
    "    logits = tf.layers.dense(drop1, 10, activation=None)\n",
    "    \n",
    "    predictions = {\n",
    "        'classes': tf.argmax(logits, axis=1),\n",
    "        'probabilities': tf.nn.softmax(logits, name='softmax_tensor')\n",
    "    }\n",
    "    if mode == tf.estimator.ModeKeys.PREDICT:\n",
    "        return tf.estimator.EstimatorSpec(mode=mode, predictions=predictions)\n",
    "    \n",
    "    loss = tf.losses.sparse_softmax_cross_entropy(logits=logits, labels=labels)\n",
    "    \n",
    "    if mode == tf.estimator.ModeKeys.TRAIN:\n",
    "        LEARNING_RATE = 1e-4\n",
    "        opt = tf.train.AdamOptimizer(LEARNING_RATE).minimize(loss, global_step=tf.train.get_global_step())\n",
    "        return tf.estimator.EstimatorSpec(mode=mode, loss=loss, train_op=opt)\n",
    "    \n",
    "    eval_metric_ops = {\n",
    "        'accuracy': tf.metrics.accuracy(labels=labels, predictions=predictions['classes'])\n",
    "    }\n",
    "    return tf.estimator.EstimatorSpec(mode=mode, loss=loss, eval_metric_ops=eval_metric_ops)"
=======
    "images = tf.placeholder(shape=[None, 784], dtype=tf.float32)\n",
    "reshape_images = tf.reshape(images, [-1, 28, 28, 1])\n",
    "labels = tf.placeholder(shape=[None, 10], dtype=tf.float32)\n",
    "\n",
    "training = tf.placeholder(tf.bool)"
   ]
  },
  {
   "cell_type": "code",
   "execution_count": 5,
   "metadata": {},
   "outputs": [],
   "source": [
    "# Model Architecture(Network)\n",
    "conv1 = tf.layers.conv2d(reshape_images, 32, [3, 3], activation=tf.nn.relu)\n",
    "pool1 = tf.layers.max_pooling2d(conv1, [3, 3], [2, 2])\n",
    "\n",
    "conv2 = tf.layers.conv2d(pool1, 64, [3, 3], activation=tf.nn.relu)\n",
    "pool2 = tf.layers.max_pooling2d(conv2, [3, 3], [2, 2])\n",
    "\n",
    "flatten_feature = tf.contrib.layers.flatten(pool2)\n",
    "dense1 = tf.layers.dense(flatten_feature, 1024, activation=tf.nn.relu)\n",
    "drop1 = tf.layers.dropout(dense1, 0.5, training=training)\n",
    "\n",
    "logits = tf.layers.dense(drop1, 10, activation=None)\n",
    "cost = tf.nn.softmax_cross_entropy_with_logits(logits=logits, labels=labels)\n",
    "\n",
    "LEARNING_RATE = 1e-4\n",
    "opt = tf.train.AdamOptimizer(LEARNING_RATE).minimize(cost)"
>>>>>>> 84fb67b013429bde055bc839ce58a43c261abf96
   ]
  },
  {
   "cell_type": "markdown",
   "metadata": {},
   "source": [
<<<<<<< HEAD
    "# tf.layers method의 parameter\n",
=======
    "각 함수 parameter\n",
>>>>>>> 84fb67b013429bde055bc839ce58a43c261abf96
    "\n",
    "tf.layers.conv2d(input_vector, output_channel, [kernel_width, kernel_height], ...)\n",
    "\n",
    "tf.layers.max_pooling2d(input_vector, [kernel_width, kernel_height], [strides_along_width, strides_along_height], ...)\n",
    "\n",
    "tf.layers.dense(input_vector, output_channel, ...)\n",
    "\n",
    "tf.layers.dropout(input_vector, drop_ratio, training, ...)"
   ]
  },
  {
   "cell_type": "code",
<<<<<<< HEAD
   "execution_count": 4,
   "metadata": {},
   "outputs": [
    {
     "name": "stdout",
     "output_type": "stream",
     "text": [
      "INFO:tensorflow:Using default config.\n",
      "INFO:tensorflow:Using config: {'_model_dir': 'tmp/mnist_net', '_tf_random_seed': None, '_save_summary_steps': 100, '_save_checkpoints_steps': None, '_save_checkpoints_secs': 600, '_session_config': None, '_keep_checkpoint_max': 5, '_keep_checkpoint_every_n_hours': 10000, '_log_step_count_steps': 100, '_service': None, '_cluster_spec': <tensorflow.python.training.server_lib.ClusterSpec object at 0x000001DBEC1F0518>, '_task_type': 'worker', '_task_id': 0, '_global_id_in_cluster': 0, '_master': '', '_evaluation_master': '', '_is_chief': True, '_num_ps_replicas': 0, '_num_worker_replicas': 1}\n"
     ]
    }
   ],
   "source": [
    "mnist_net = tf.estimator.Estimator(model_fn=my_cnn, model_dir='tmp/mnist_net')\n",
    "tensors_to_log = {\"probabilities\": \"softmax_tensor\"}\n",
    "logging_hook = tf.train.LoggingTensorHook(tensors=tensors_to_log, every_n_iter=50)"
=======
   "execution_count": 6,
   "metadata": {
    "collapsed": true
   },
   "outputs": [],
   "source": [
    "sess = tf.Session()\n",
    "sess.run(tf.global_variables_initializer())"
>>>>>>> 84fb67b013429bde055bc839ce58a43c261abf96
   ]
  },
  {
   "cell_type": "code",
<<<<<<< HEAD
   "execution_count": 5,
   "metadata": {},
   "outputs": [
    {
     "name": "stdout",
     "output_type": "stream",
     "text": [
      "INFO:tensorflow:Calling model_fn.\n",
      "INFO:tensorflow:Done calling model_fn.\n",
      "INFO:tensorflow:Create CheckpointSaverHook.\n",
      "INFO:tensorflow:Graph was finalized.\n",
      "INFO:tensorflow:Restoring parameters from tmp/mnist_net\\model.ckpt-0\n",
      "INFO:tensorflow:Running local_init_op.\n",
      "INFO:tensorflow:Done running local_init_op.\n",
      "INFO:tensorflow:Saving checkpoints for 1 into tmp/mnist_net\\model.ckpt.\n",
      "INFO:tensorflow:probabilities = [[0.09975733 0.08313899 0.11389747 0.09766226 0.13251856 0.07742252\n",
      "  0.13438566 0.08932856 0.09217882 0.07970989]\n",
      " [0.0974706  0.10513388 0.11986914 0.08934475 0.10061514 0.08820899\n",
      "  0.11320601 0.08409135 0.10186542 0.10019472]\n",
      " [0.08564804 0.10337126 0.09341429 0.09928324 0.10105222 0.09644863\n",
      "  0.11979241 0.11198745 0.08924684 0.09975567]\n",
      " [0.09006063 0.07849245 0.10502364 0.10368156 0.08825032 0.11587364\n",
      "  0.12542623 0.08184235 0.1011906  0.11015853]\n",
      " [0.09066028 0.12470544 0.13824387 0.09146186 0.06619128 0.08920771\n",
      "  0.14046472 0.08509056 0.07829108 0.09568316]\n",
      " [0.10424489 0.11515432 0.09520102 0.09061342 0.08855087 0.09224429\n",
      "  0.10936087 0.09864788 0.10119797 0.10478453]\n",
      " [0.10104305 0.11118088 0.11436301 0.09924729 0.06993863 0.09387896\n",
      "  0.14002092 0.06405807 0.10142932 0.10483988]\n",
      " [0.11148679 0.13421372 0.14276044 0.10801946 0.06842509 0.0892073\n",
      "  0.10310764 0.07470369 0.08320855 0.08486735]\n",
      " [0.08380211 0.11715171 0.12122993 0.09561223 0.10129017 0.09118983\n",
      "  0.08250336 0.09199706 0.10172933 0.11349415]\n",
      " [0.09866933 0.11678012 0.10565133 0.08405168 0.10039527 0.0719713\n",
      "  0.14778279 0.08524797 0.10084967 0.08860053]\n",
      " [0.10272387 0.10953759 0.10007853 0.12582272 0.07415562 0.11109009\n",
      "  0.11132468 0.09105977 0.0911459  0.08306119]\n",
      " [0.1052977  0.09616093 0.133248   0.09866486 0.07505329 0.1043952\n",
      "  0.11006089 0.08759979 0.10140514 0.08811415]\n",
      " [0.10245772 0.13665526 0.10237475 0.09947146 0.08116988 0.10599136\n",
      "  0.09512921 0.09038366 0.09512994 0.09123681]\n",
      " [0.07942981 0.08837399 0.13432513 0.12238969 0.08156284 0.09901378\n",
      "  0.1072914  0.09241949 0.09869131 0.09650243]\n",
      " [0.11571741 0.11926924 0.10736778 0.09756764 0.09842368 0.08280099\n",
      "  0.12288005 0.07291588 0.09822633 0.08483104]\n",
      " [0.08289868 0.10754523 0.11337233 0.10591714 0.0760706  0.13534208\n",
      "  0.11244603 0.06436339 0.10735784 0.0946867 ]\n",
      " [0.1026957  0.10457993 0.09851885 0.11033454 0.09138963 0.09338287\n",
      "  0.10625178 0.09710719 0.09294541 0.10279401]\n",
      " [0.11912251 0.08805029 0.10770528 0.11601853 0.06389253 0.09601077\n",
      "  0.11551765 0.0982396  0.08561955 0.10982318]\n",
      " [0.07616829 0.09572792 0.12264331 0.12759075 0.0872484  0.09999264\n",
      "  0.07925213 0.11751232 0.1027999  0.09106442]\n",
      " [0.09716562 0.10968171 0.11686796 0.09815777 0.08299225 0.1103356\n",
      "  0.10990699 0.08911669 0.0918171  0.09395836]\n",
      " [0.1080323  0.09832941 0.12012132 0.09428609 0.0859869  0.06991304\n",
      "  0.13314804 0.08797296 0.11268456 0.08952541]\n",
      " [0.08832292 0.09506487 0.11044666 0.10424433 0.09893616 0.10542312\n",
      "  0.1078316  0.08249468 0.10695091 0.10028487]\n",
      " [0.0881383  0.12621725 0.11794382 0.09707681 0.07654959 0.11090352\n",
      "  0.10782153 0.07747319 0.10158376 0.09629228]\n",
      " [0.08265371 0.10522277 0.12717897 0.12182307 0.07811324 0.09912767\n",
      "  0.10927497 0.07495655 0.10704135 0.09460774]\n",
      " [0.09777075 0.0882439  0.1158682  0.12916347 0.0980385  0.08921204\n",
      "  0.13099112 0.05757822 0.08236909 0.11076468]\n",
      " [0.1080621  0.07785107 0.13472132 0.09119928 0.08539326 0.12407435\n",
      "  0.12513322 0.06239915 0.11329019 0.07787608]\n",
      " [0.0968564  0.12650003 0.12000809 0.08880869 0.08402967 0.10031571\n",
      "  0.12605774 0.06433768 0.10664211 0.08644387]\n",
      " [0.09355631 0.10114934 0.09921831 0.09378675 0.09605994 0.08478598\n",
      "  0.1416323  0.075329   0.12497815 0.08950385]\n",
      " [0.09355973 0.1048499  0.12422639 0.11183543 0.09556822 0.12552804\n",
      "  0.09112351 0.06879208 0.10277869 0.08173795]\n",
      " [0.08916039 0.1126963  0.09493046 0.10353991 0.09027857 0.10564493\n",
      "  0.10530433 0.08076397 0.10535899 0.11232208]\n",
      " [0.09230225 0.09415289 0.11779566 0.12319064 0.08494964 0.09336443\n",
      "  0.12457489 0.07876699 0.09899646 0.09190619]\n",
      " [0.09049814 0.08029244 0.11706293 0.12629326 0.10003702 0.09045021\n",
      "  0.11520711 0.0629803  0.13433892 0.08283972]\n",
      " [0.10338953 0.10706796 0.117807   0.09359664 0.08789011 0.09895415\n",
      "  0.1187757  0.08632752 0.10304547 0.08314588]\n",
      " [0.12406687 0.08622258 0.10905471 0.10441284 0.08914922 0.09278788\n",
      "  0.12139108 0.07490271 0.12085737 0.07715479]\n",
      " [0.10231567 0.11496879 0.10244399 0.10820874 0.08291159 0.07495031\n",
      "  0.10705662 0.08215424 0.11082198 0.11416797]\n",
      " [0.09025762 0.09847877 0.11098468 0.10330565 0.09719497 0.09365554\n",
      "  0.12628509 0.07879873 0.10769431 0.09334463]\n",
      " [0.09338602 0.10180926 0.12666732 0.1272837  0.08669796 0.09180202\n",
      "  0.08916623 0.08567834 0.09201182 0.10549734]\n",
      " [0.09331253 0.10852409 0.10413802 0.08198577 0.11040515 0.10507923\n",
      "  0.13992757 0.07920437 0.09702453 0.08039884]\n",
      " [0.08659802 0.16419785 0.12108385 0.08103704 0.07745144 0.0926475\n",
      "  0.10020772 0.08965829 0.10050199 0.08661628]\n",
      " [0.0806742  0.1122829  0.11858036 0.10297488 0.11637829 0.08208259\n",
      "  0.13587797 0.0731677  0.08772799 0.09025317]\n",
      " [0.11053239 0.09252186 0.12313427 0.10875492 0.08115438 0.0957556\n",
      "  0.10219551 0.08259241 0.10866165 0.09469698]\n",
      " [0.09683853 0.09496278 0.13211887 0.09570288 0.09908293 0.09325829\n",
      "  0.11362677 0.07055399 0.12255947 0.08129553]\n",
      " [0.10647349 0.09990596 0.11371762 0.09078181 0.0875067  0.09462991\n",
      "  0.10193977 0.0862285  0.12542796 0.09338831]\n",
      " [0.11925092 0.08734512 0.11000086 0.09820773 0.09824428 0.09561098\n",
      "  0.10235418 0.08515336 0.10969976 0.09413275]\n",
      " [0.09104969 0.1223506  0.12600112 0.10476224 0.09482139 0.1119049\n",
      "  0.10533819 0.06761923 0.10292927 0.07322334]\n",
      " [0.11396047 0.09294836 0.10806919 0.08912907 0.10610454 0.09515379\n",
      "  0.10399019 0.07856551 0.09943486 0.11264404]\n",
      " [0.10190114 0.09608556 0.11855751 0.0879085  0.08792081 0.12698376\n",
      "  0.12772802 0.06998859 0.09849039 0.08443571]\n",
      " [0.07994291 0.08390316 0.11853495 0.10150373 0.08882911 0.11026852\n",
      "  0.1203865  0.08910365 0.11262236 0.09490504]\n",
      " [0.09078944 0.10635225 0.12740791 0.09134705 0.09085444 0.08859432\n",
      "  0.14792666 0.06000824 0.11721537 0.0795043 ]\n",
      " [0.10035246 0.10202095 0.11296859 0.09745244 0.0927421  0.09346621\n",
      "  0.12222294 0.0863563  0.09006742 0.1023507 ]\n",
      " [0.11029248 0.10045776 0.10295696 0.08401493 0.09334522 0.08674932\n",
      "  0.12685612 0.09668912 0.09722152 0.10141651]\n",
      " [0.09704098 0.10986283 0.09551339 0.1061938  0.09469225 0.11580557\n",
      "  0.11185431 0.06774694 0.10315135 0.09813856]\n",
      " [0.10101689 0.10269942 0.13027054 0.07604825 0.09442228 0.08725265\n",
      "  0.1471743  0.06903049 0.10870735 0.08337793]\n",
      " [0.09717629 0.09890165 0.11044868 0.093384   0.09782787 0.110163\n",
      "  0.12945351 0.06904528 0.10927387 0.08432589]\n",
      " [0.11136716 0.09679527 0.11965309 0.09725074 0.08372935 0.11204947\n",
      "  0.10139637 0.08742249 0.10613646 0.08419958]\n",
      " [0.12732142 0.10967384 0.12064763 0.1052747  0.08248394 0.10711198\n",
      "  0.10727938 0.07125288 0.08628922 0.08266492]\n",
      " [0.0894407  0.08673721 0.12696503 0.11273757 0.08259005 0.10453863\n",
      "  0.11090336 0.07295689 0.11214688 0.10098367]\n",
      " [0.08405385 0.08233002 0.12135324 0.12598047 0.08609491 0.11035568\n",
      "  0.10562477 0.10221954 0.08460504 0.09738249]\n",
      " [0.09870293 0.10274751 0.13823321 0.09779017 0.07967952 0.10713297\n",
      "  0.09370963 0.06920899 0.12384045 0.08895449]\n",
      " [0.08574285 0.1234484  0.11885699 0.09666254 0.0982206  0.09045056\n",
      "  0.14786157 0.08231563 0.07840157 0.0780393 ]\n",
      " [0.09216984 0.10488566 0.13299318 0.10173634 0.0935236  0.09236631\n",
      "  0.12913688 0.06339738 0.10017572 0.08961513]\n",
      " [0.11259318 0.09775687 0.09972886 0.11432488 0.08954913 0.08667622\n",
      "  0.09754721 0.0898504  0.12517832 0.08679494]\n",
      " [0.10625031 0.09608687 0.11764693 0.12331194 0.09618998 0.08949301\n",
      "  0.12084934 0.08035648 0.0990166  0.07079854]\n",
      " [0.0947154  0.11759435 0.13715306 0.09754793 0.10267665 0.08265648\n",
      "  0.10793649 0.08054894 0.10192634 0.07724431]]\n",
      "INFO:tensorflow:loss = 2.3287082, step = 1\n",
      "INFO:tensorflow:probabilities = [[0.09454053 0.02691093 0.11675966 0.10247491 0.1004193  0.1308648\n",
      "  0.08495151 0.13068648 0.07875187 0.13364005]\n",
      " [0.2096856  0.05243601 0.13195416 0.09137869 0.09851925 0.10341156\n",
      "  0.06956193 0.07227636 0.0812773  0.08949916]\n",
      " [0.090618   0.11212358 0.08725133 0.11887637 0.07858508 0.12424736\n",
      "  0.08161554 0.07901675 0.11938342 0.10828256]\n",
      " [0.0740106  0.03773972 0.08735208 0.10890932 0.11953425 0.17663032\n",
      "  0.09476963 0.10805639 0.08974544 0.10325229]\n",
      " [0.08024909 0.07890587 0.05789083 0.10135058 0.13010217 0.10942824\n",
      "  0.05911976 0.11745925 0.12688267 0.1386115 ]\n",
      " [0.07759893 0.05639223 0.0929501  0.14700033 0.09684218 0.1809129\n",
      "  0.05835854 0.08805239 0.09913141 0.10276104]\n",
      " [0.04502033 0.22596878 0.09529218 0.06711799 0.09101971 0.07908336\n",
      "  0.08938771 0.10079095 0.11692908 0.08938994]\n",
      " [0.07331499 0.18291801 0.10305667 0.08980528 0.09825603 0.06422811\n",
      "  0.09338839 0.07405385 0.1089234  0.11205526]\n",
      " [0.07686766 0.05109268 0.05698857 0.12265933 0.09322307 0.11522114\n",
      "  0.04020703 0.2462531  0.06641543 0.13107201]\n",
      " [0.06585939 0.10977909 0.06207498 0.12941594 0.07517556 0.10595988\n",
      "  0.06914821 0.10602228 0.16025488 0.11630981]\n",
      " [0.09376569 0.1450708  0.11179446 0.12619701 0.06526648 0.12841411\n",
      "  0.06141864 0.05403669 0.12312653 0.09090953]\n",
      " [0.09796563 0.02304772 0.11188413 0.10279592 0.17141792 0.07235491\n",
      "  0.08593791 0.09853905 0.09167985 0.144377  ]\n",
      " [0.08075476 0.04834776 0.13662934 0.20491615 0.07633243 0.08280707\n",
      "  0.0374603  0.13968511 0.09374025 0.0993268 ]\n",
      " [0.05387419 0.28547728 0.10049032 0.08289908 0.07130703 0.07735288\n",
      "  0.06573398 0.08244085 0.09205966 0.08836476]\n",
      " [0.11678572 0.04604771 0.11010189 0.08890445 0.12127762 0.1098948\n",
      "  0.07155012 0.0925732  0.08120765 0.1616569 ]\n",
      " [0.07609684 0.08563364 0.14699417 0.18990101 0.08520183 0.09814598\n",
      "  0.04415629 0.13743164 0.06479585 0.07164282]\n",
      " [0.0538616  0.04472297 0.0869588  0.11273368 0.07892827 0.18317986\n",
      "  0.07713779 0.12869881 0.10268386 0.13109434]\n",
      " [0.14851362 0.08693472 0.09175096 0.11228869 0.08961218 0.1041676\n",
      "  0.08097608 0.08005928 0.1009762  0.1047208 ]\n",
      " [0.1678371  0.04710231 0.10716756 0.11479764 0.09036576 0.12364036\n",
      "  0.07620879 0.0913367  0.06930841 0.1122354 ]\n",
      " [0.0455081  0.0325064  0.07052942 0.10382248 0.08508885 0.08152388\n",
      "  0.03203332 0.41310677 0.06013285 0.07574803]\n",
      " [0.08556328 0.04076535 0.07609932 0.12172659 0.11144181 0.17815533\n",
      "  0.08116749 0.11765903 0.0910703  0.09635149]\n",
      " [0.0744378  0.05183214 0.15085539 0.16104272 0.08434192 0.07227605\n",
      "  0.08418013 0.13744366 0.08947171 0.09411856]\n",
      " [0.23979524 0.0424114  0.09540277 0.09301742 0.08882242 0.09485514\n",
      "  0.06485612 0.12866324 0.05152171 0.10065457]\n",
      " [0.08980954 0.02202814 0.09383294 0.12089463 0.1332428  0.14027087\n",
      "  0.05242153 0.10302149 0.13107762 0.11340056]\n",
      " [0.18979907 0.04978189 0.13374728 0.11131752 0.09910563 0.09972461\n",
      "  0.05957454 0.08213472 0.07861753 0.09619717]\n",
      " [0.07391766 0.0483073  0.22381034 0.12850961 0.04926913 0.0914619\n",
      "  0.05921721 0.16546632 0.07822786 0.08181261]\n",
      " [0.07262646 0.04663786 0.08761529 0.07509841 0.10309476 0.11332928\n",
      "  0.08665013 0.1810765  0.07492545 0.15894596]\n",
      " [0.09065679 0.0419335  0.10432822 0.07562961 0.16401547 0.11924181\n",
      "  0.12361632 0.07830409 0.07778518 0.12448905]\n",
      " [0.06913559 0.11021044 0.12018456 0.10987134 0.08922517 0.0865154\n",
      "  0.06095004 0.12794997 0.11155843 0.11439905]\n",
      " [0.06941684 0.06700781 0.12526383 0.10232158 0.09461612 0.11285792\n",
      "  0.11257099 0.06722344 0.13258415 0.11613732]\n",
      " [0.09865437 0.11549396 0.18897274 0.08604053 0.06309654 0.11476773\n",
      "  0.06856161 0.09071442 0.10863344 0.06506474]\n",
      " [0.09147761 0.08277473 0.10417172 0.0998193  0.13523592 0.12036741\n",
      "  0.07448423 0.08800982 0.10683639 0.09682279]\n",
      " [0.09146971 0.06741002 0.08588216 0.1090831  0.10047815 0.1585831\n",
      "  0.11773821 0.05381774 0.08647391 0.12906392]\n",
      " [0.12210827 0.05522379 0.13316642 0.09354322 0.12047625 0.09396955\n",
      "  0.12310708 0.0902365  0.07075807 0.09741087]\n",
      " [0.17460194 0.0481586  0.09030239 0.07105165 0.10296706 0.07896926\n",
      "  0.15051347 0.06208098 0.08244163 0.138913  ]\n",
      " [0.16373017 0.01794302 0.14385757 0.11716641 0.1484483  0.0794443\n",
      "  0.06768765 0.09983362 0.06873558 0.09315331]\n",
      " [0.10110653 0.03080812 0.09889763 0.07759321 0.15481938 0.12820615\n",
      "  0.09150555 0.0673876  0.09008969 0.15958615]\n",
      " [0.05301356 0.24521881 0.06443506 0.09278467 0.08046696 0.1235503\n",
      "  0.07675695 0.0881726  0.10136267 0.07423849]\n",
      " [0.11665434 0.10177272 0.22236758 0.10736136 0.0654861  0.05628944\n",
      "  0.09036123 0.07758772 0.09032883 0.07179072]\n",
      " [0.08928908 0.05967142 0.17728367 0.1689126  0.05316284 0.08846678\n",
      "  0.06979401 0.11044172 0.12413242 0.05884542]\n",
      " [0.0910052  0.11589029 0.07846822 0.11148459 0.06871311 0.16454838\n",
      "  0.05703813 0.11049163 0.11337726 0.08898322]\n",
      " [0.06654891 0.03203505 0.16718262 0.09914454 0.07851146 0.10352451\n",
      "  0.06711233 0.08847887 0.10974897 0.18771273]\n",
      " [0.04741878 0.1029034  0.07821634 0.11144293 0.11105268 0.09726236\n",
      "  0.11836972 0.05823255 0.1138832  0.16121808]\n",
      " [0.07456199 0.15154427 0.11753947 0.15444767 0.05832829 0.09739538\n",
      "  0.08193187 0.06240484 0.11132626 0.09051999]\n",
      " [0.18977962 0.02416817 0.162969   0.08256532 0.08950304 0.09916434\n",
      "  0.10304292 0.07549723 0.11021061 0.0630997 ]\n",
      " [0.10413108 0.02666616 0.07076463 0.12241623 0.09310748 0.13653214\n",
      "  0.08586341 0.1230974  0.08967245 0.14774907]\n",
      " [0.15310046 0.04243615 0.10029668 0.07965032 0.1191474  0.1178783\n",
      "  0.06659009 0.08740398 0.10757693 0.12591973]\n",
      " [0.06112584 0.3194011  0.06957963 0.08077476 0.04657437 0.08189888\n",
      "  0.076554   0.06434568 0.08750165 0.11224419]\n",
      " [0.07513165 0.21273203 0.09006874 0.08877978 0.07099342 0.10469716\n",
      "  0.07184621 0.10632637 0.09035389 0.08907075]\n",
      " [0.06473859 0.05709051 0.09295341 0.17848432 0.07735971 0.10015681\n",
      "  0.043006   0.10335031 0.18428282 0.09857745]\n",
      " [0.04736781 0.17239599 0.08224063 0.12113094 0.0551868  0.14137599\n",
      "  0.06794984 0.07852235 0.1270835  0.10674626]\n",
      " [0.07804138 0.05394724 0.10410966 0.10585863 0.1411993  0.10395352\n",
      "  0.05463016 0.12208557 0.07822688 0.15794764]\n",
      " [0.09826303 0.09826852 0.07459325 0.09832838 0.15107785 0.14827016\n",
      "  0.07940499 0.07791609 0.07175475 0.10212298]\n",
      " [0.06133292 0.2014966  0.09709961 0.08567785 0.08456341 0.11673104\n",
      "  0.06643765 0.10443308 0.10513106 0.07709677]\n",
      " [0.07664291 0.08129974 0.10044882 0.08096289 0.09339172 0.13893582\n",
      "  0.12226177 0.0755271  0.10512748 0.1254017 ]\n",
      " [0.06525686 0.09211521 0.08162723 0.09692141 0.08844658 0.09978878\n",
      "  0.07517463 0.10526289 0.11167105 0.18373537]\n",
      " [0.07505862 0.25198662 0.08587468 0.08273347 0.06307085 0.08758947\n",
      "  0.07552318 0.08331783 0.11384334 0.08100195]\n",
      " [0.09442152 0.02375634 0.06136224 0.16910969 0.06614467 0.08229246\n",
      "  0.05355709 0.19728707 0.07752322 0.17454566]\n",
      " [0.08520149 0.05139055 0.07751721 0.14161365 0.14361712 0.11359503\n",
      "  0.05652072 0.138552   0.05762557 0.13436666]\n",
      " [0.05637638 0.08971818 0.09644968 0.12277126 0.06235256 0.1103802\n",
      "  0.0654138  0.1220122  0.12369236 0.15083347]\n",
      " [0.10956358 0.18802525 0.10255336 0.11444294 0.06177047 0.10212158\n",
      "  0.06437512 0.07535592 0.0817564  0.10003541]\n",
      " [0.08995719 0.04337996 0.08037485 0.0775381  0.200765   0.10995756\n",
      "  0.13575819 0.06693964 0.0728447  0.12248486]\n",
      " [0.0471347  0.05259114 0.09669167 0.10491505 0.07667511 0.12044267\n",
      "  0.04102839 0.3041389  0.06028447 0.09609786]\n",
      " [0.19210854 0.02756025 0.17290753 0.13361406 0.11680697 0.10993381\n",
      "  0.02671509 0.0893934  0.06453823 0.06642203]] (4.439 sec)\n"
     ]
    },
    {
     "name": "stdout",
     "output_type": "stream",
     "text": [
      "INFO:tensorflow:Saving checkpoints for 100 into tmp/mnist_net\\model.ckpt.\n",
      "INFO:tensorflow:Loss for final step: 1.0340838.\n"
     ]
    },
    {
     "data": {
      "text/plain": [
       "<tensorflow.python.estimator.estimator.Estimator at 0x1dbe9908f98>"
      ]
     },
     "execution_count": 5,
=======
   "execution_count": 7,
   "metadata": {},
   "outputs": [
    {
     "data": {
      "text/plain": [
       "859"
      ]
     },
     "execution_count": 7,
>>>>>>> 84fb67b013429bde055bc839ce58a43c261abf96
     "metadata": {},
     "output_type": "execute_result"
    }
   ],
   "source": [
<<<<<<< HEAD
    "train_input_fn = tf.estimator.inputs.numpy_input_fn(x=mnist.train.images, y=mnist.train.labels.astype(np.int32),\n",
    "                                                    batch_size=64, num_epochs=None, shuffle=True)"
=======
    "MAX_EPOCH = 10\n",
    "BATCH_SIZE = 64\n",
    "total_batch = int(mnist.train.num_examples/BATCH_SIZE)\n",
    "total_batch"
>>>>>>> 84fb67b013429bde055bc839ce58a43c261abf96
   ]
  },
  {
   "cell_type": "code",
   "execution_count": 8,
<<<<<<< HEAD
   "metadata": {},
=======
   "metadata": {
    "scrolled": true
   },
>>>>>>> 84fb67b013429bde055bc839ce58a43c261abf96
   "outputs": [
    {
     "name": "stdout",
     "output_type": "stream",
     "text": [
<<<<<<< HEAD
      "INFO:tensorflow:Calling model_fn.\n",
      "INFO:tensorflow:Done calling model_fn.\n",
      "INFO:tensorflow:Create CheckpointSaverHook.\n",
      "INFO:tensorflow:Graph was finalized.\n",
      "INFO:tensorflow:Restoring parameters from tmp/mnist_net\\model.ckpt-300\n",
      "INFO:tensorflow:Running local_init_op.\n",
      "INFO:tensorflow:Done running local_init_op.\n",
      "INFO:tensorflow:Saving checkpoints for 301 into tmp/mnist_net\\model.ckpt.\n",
      "INFO:tensorflow:loss = 0.38532686, step = 301\n",
      "INFO:tensorflow:global_step/sec: 14.0553\n",
      "INFO:tensorflow:loss = 0.23613816, step = 401 (7.118 sec)\n",
      "INFO:tensorflow:global_step/sec: 14.1089\n",
      "INFO:tensorflow:loss = 0.25310978, step = 501 (7.087 sec)\n",
      "INFO:tensorflow:Saving checkpoints for 600 into tmp/mnist_net\\model.ckpt.\n",
      "INFO:tensorflow:Loss for final step: 0.40360713.\n"
     ]
    },
    {
     "data": {
      "text/plain": [
       "<tensorflow.python.estimator.estimator.Estimator at 0x1dbe9908f98>"
      ]
     },
     "execution_count": 8,
     "metadata": {},
     "output_type": "execute_result"
    }
   ],
   "source": [
    "mnist_net.train(input_fn=train_input_fn, steps=300)"
=======
      "Test accuracy: [ 2.26618767  2.51381183  2.3304944  ...,  2.36248589  2.47254705\n",
      "  2.25476646]\n",
      "Test accuracy: [ 0.19004999  0.7404108   0.12458982 ...,  0.84763896  1.49897373\n",
      "  0.79925632]\n",
      "Test accuracy: [ 0.00415652  0.28783059  0.01576156 ...,  0.17863193  0.45476639\n",
      "  0.06421856]\n",
      "Test accuracy: [ 0.00066652  0.05786695  0.00508397 ...,  0.02074625  0.22643431\n",
      "  0.00784578]\n",
      "Test accuracy: [ 0.00050091  0.01817501  0.00484115 ...,  0.02794873  0.08017522\n",
      "  0.00562952]\n",
      "Test accuracy: [ 0.00033742  0.01405802  0.00425066 ...,  0.01462842  0.09017809\n",
      "  0.00371089]\n",
      "Test accuracy: [ 0.00045051  0.00855944  0.00317771 ...,  0.00952792  0.03295648\n",
      "  0.00340727]\n",
      "Test accuracy: [ 0.00012242  0.0098108   0.00216892 ...,  0.00364984  0.07420675\n",
      "  0.00279679]\n",
      "Test accuracy: [ 0.00011503  0.0082651   0.0034858  ...,  0.00388522  0.04897175\n",
      "  0.00216298]\n",
      "Epoch: 0 completed\n",
      "Test accuracy: [ 0.00027021  0.00419309  0.00369105 ...,  0.00309798  0.03848245\n",
      "  0.00097906]\n",
      "Test accuracy: [ 0.00010728  0.0032559   0.00405454 ...,  0.00237326  0.02187447\n",
      "  0.00065424]\n",
      "Test accuracy: [ 0.00014912  0.00100372  0.00321313 ...,  0.00078099  0.01759773\n",
      "  0.00620119]\n",
      "Test accuracy: [ 0.00021598  0.00272261  0.00215037 ...,  0.00129425  0.0020395\n",
      "  0.00120948]\n",
      "Test accuracy: [ 0.00019942  0.00152817  0.00223185 ...,  0.00038616  0.02686519\n",
      "  0.00112435]\n",
      "Test accuracy: [  6.86621934e-05   2.73936940e-03   2.17844034e-03 ...,   3.66382243e-04\n",
      "   2.63201213e-03   1.86888478e-03]\n",
      "Test accuracy: [ 0.00010418  0.00090117  0.00150912 ...,  0.00050913  0.00228371\n",
      "  0.00229298]\n",
      "Test accuracy: [  6.78277866e-05   1.84532511e-03   2.37813708e-03 ...,   5.26170596e-04\n",
      "   1.17804727e-03   9.62271064e-04]\n",
      "Test accuracy: [  4.79209848e-05   1.34472991e-03   3.90184647e-03 ...,   2.98455503e-04\n",
      "   1.42481858e-02   2.95714504e-04]\n",
      "Epoch: 1 completed\n",
      "Test accuracy: [ 0.00014983  0.00120079  0.00331056 ...,  0.000108    0.00269348\n",
      "  0.00134556]\n",
      "Test accuracy: [ 0.00020728  0.00191993  0.00253202 ...,  0.00022206  0.00188257\n",
      "  0.00049281]\n",
      "Test accuracy: [  8.46350158e-05   5.05716214e-03   3.75922350e-03 ...,   1.01441961e-04\n",
      "   3.65185691e-03   2.47209508e-04]\n",
      "Test accuracy: [  7.84366348e-05   3.43423779e-03   1.31556252e-03 ...,   1.87856189e-04\n",
      "   6.95676077e-03   2.58412329e-04]\n",
      "Test accuracy: [  2.77753788e-05   4.55532456e-03   2.23815115e-03 ...,   2.72952020e-04\n",
      "   3.84591613e-03   1.16780738e-03]\n",
      "Test accuracy: [  3.70734015e-05   3.66123999e-03   2.80855712e-03 ...,   3.29012219e-05\n",
      "   1.33263832e-02   9.02373577e-05]\n",
      "Test accuracy: [  2.92058503e-05   2.10956577e-03   1.28317962e-03 ...,   1.31955981e-04\n",
      "   1.71657023e-03   1.01322759e-04]\n",
      "Test accuracy: [  3.02787012e-05   1.22674531e-03   2.72760005e-03 ...,   1.48285355e-04\n",
      "   6.24342531e-04   4.39904717e-04]\n",
      "Test accuracy: [  3.87422697e-05   2.24540662e-03   6.33634976e-04 ...,   1.66283135e-04\n",
      "   4.54799214e-04   1.35412585e-04]\n",
      "Epoch: 2 completed\n",
      "Test accuracy: [  2.69409356e-05   1.84008956e-03   6.08259172e-04 ...,   1.02157144e-04\n",
      "   2.31058476e-03   1.30048880e-04]\n",
      "Test accuracy: [  1.15632338e-05   1.27996504e-03   2.44627940e-03 ...,   2.18486748e-04\n",
      "   4.74564917e-03   5.02579263e-04]\n",
      "Test accuracy: [ 0.00013923  0.00098633  0.00150436 ...,  0.00027486  0.00233663\n",
      "  0.00041893]\n",
      "Test accuracy: [  2.16103086e-04   2.04366096e-03   1.34008704e-03 ...,   2.21466325e-04\n",
      "   2.14251666e-03   8.96413694e-05]\n",
      "Test accuracy: [  3.64773769e-05   1.37758686e-03   1.00359612e-03 ...,   3.01594955e-05\n",
      "   2.41690618e-03   7.36686270e-05]\n",
      "Test accuracy: [  2.63449056e-05   7.87067576e-04   3.89009085e-03 ...,   1.28976128e-04\n",
      "   5.90031093e-04   3.65786400e-04]\n"
     ]
    },
    {
     "ename": "KeyboardInterrupt",
     "evalue": "",
     "output_type": "error",
     "traceback": [
      "\u001b[0;31m---------------------------------------------------------------------------\u001b[0m",
      "\u001b[0;31mKeyboardInterrupt\u001b[0m                         Traceback (most recent call last)",
      "\u001b[0;32m<ipython-input-8-5165ef111671>\u001b[0m in \u001b[0;36m<module>\u001b[0;34m()\u001b[0m\n\u001b[1;32m      3\u001b[0m     \u001b[0;32mfor\u001b[0m \u001b[0mi\u001b[0m \u001b[0;32min\u001b[0m \u001b[0mrange\u001b[0m\u001b[0;34m(\u001b[0m\u001b[0mtotal_batch\u001b[0m\u001b[0;34m)\u001b[0m\u001b[0;34m:\u001b[0m\u001b[0;34m\u001b[0m\u001b[0m\n\u001b[1;32m      4\u001b[0m         \u001b[0mbatch\u001b[0m \u001b[0;34m=\u001b[0m \u001b[0mmnist\u001b[0m\u001b[0;34m.\u001b[0m\u001b[0mtrain\u001b[0m\u001b[0;34m.\u001b[0m\u001b[0mnext_batch\u001b[0m\u001b[0;34m(\u001b[0m\u001b[0mbatch_size\u001b[0m\u001b[0;34m=\u001b[0m\u001b[0mBATCH_SIZE\u001b[0m\u001b[0;34m,\u001b[0m \u001b[0mshuffle\u001b[0m\u001b[0;34m=\u001b[0m\u001b[0;32mTrue\u001b[0m\u001b[0;34m)\u001b[0m\u001b[0;34m\u001b[0m\u001b[0m\n\u001b[0;32m----> 5\u001b[0;31m         \u001b[0m_\u001b[0m\u001b[0;34m,\u001b[0m \u001b[0mloss\u001b[0m \u001b[0;34m=\u001b[0m \u001b[0msess\u001b[0m\u001b[0;34m.\u001b[0m\u001b[0mrun\u001b[0m\u001b[0;34m(\u001b[0m\u001b[0;34m[\u001b[0m\u001b[0mopt\u001b[0m\u001b[0;34m,\u001b[0m \u001b[0mcost\u001b[0m\u001b[0;34m]\u001b[0m\u001b[0;34m,\u001b[0m \u001b[0mfeed_dict\u001b[0m\u001b[0;34m=\u001b[0m\u001b[0;34m{\u001b[0m\u001b[0mimages\u001b[0m\u001b[0;34m:\u001b[0m \u001b[0mbatch\u001b[0m\u001b[0;34m[\u001b[0m\u001b[0;36m0\u001b[0m\u001b[0;34m]\u001b[0m\u001b[0;34m,\u001b[0m \u001b[0mlabels\u001b[0m\u001b[0;34m:\u001b[0m \u001b[0mbatch\u001b[0m\u001b[0;34m[\u001b[0m\u001b[0;36m1\u001b[0m\u001b[0;34m]\u001b[0m\u001b[0;34m,\u001b[0m \u001b[0mtraining\u001b[0m\u001b[0;34m:\u001b[0m \u001b[0;32mTrue\u001b[0m\u001b[0;34m}\u001b[0m\u001b[0;34m)\u001b[0m\u001b[0;34m\u001b[0m\u001b[0m\n\u001b[0m\u001b[1;32m      6\u001b[0m \u001b[0;34m\u001b[0m\u001b[0m\n\u001b[1;32m      7\u001b[0m         \u001b[0;32mif\u001b[0m \u001b[0mi\u001b[0m \u001b[0;34m%\u001b[0m \u001b[0;36m100\u001b[0m \u001b[0;34m==\u001b[0m \u001b[0;36m0\u001b[0m\u001b[0;34m:\u001b[0m\u001b[0;34m\u001b[0m\u001b[0m\n",
      "\u001b[0;32m~/anaconda3/lib/python3.6/site-packages/tensorflow/python/client/session.py\u001b[0m in \u001b[0;36mrun\u001b[0;34m(self, fetches, feed_dict, options, run_metadata)\u001b[0m\n\u001b[1;32m    893\u001b[0m     \u001b[0;32mtry\u001b[0m\u001b[0;34m:\u001b[0m\u001b[0;34m\u001b[0m\u001b[0m\n\u001b[1;32m    894\u001b[0m       result = self._run(None, fetches, feed_dict, options_ptr,\n\u001b[0;32m--> 895\u001b[0;31m                          run_metadata_ptr)\n\u001b[0m\u001b[1;32m    896\u001b[0m       \u001b[0;32mif\u001b[0m \u001b[0mrun_metadata\u001b[0m\u001b[0;34m:\u001b[0m\u001b[0;34m\u001b[0m\u001b[0m\n\u001b[1;32m    897\u001b[0m         \u001b[0mproto_data\u001b[0m \u001b[0;34m=\u001b[0m \u001b[0mtf_session\u001b[0m\u001b[0;34m.\u001b[0m\u001b[0mTF_GetBuffer\u001b[0m\u001b[0;34m(\u001b[0m\u001b[0mrun_metadata_ptr\u001b[0m\u001b[0;34m)\u001b[0m\u001b[0;34m\u001b[0m\u001b[0m\n",
      "\u001b[0;32m~/anaconda3/lib/python3.6/site-packages/tensorflow/python/client/session.py\u001b[0m in \u001b[0;36m_run\u001b[0;34m(self, handle, fetches, feed_dict, options, run_metadata)\u001b[0m\n\u001b[1;32m   1122\u001b[0m     \u001b[0;32mif\u001b[0m \u001b[0mfinal_fetches\u001b[0m \u001b[0;32mor\u001b[0m \u001b[0mfinal_targets\u001b[0m \u001b[0;32mor\u001b[0m \u001b[0;34m(\u001b[0m\u001b[0mhandle\u001b[0m \u001b[0;32mand\u001b[0m \u001b[0mfeed_dict_tensor\u001b[0m\u001b[0;34m)\u001b[0m\u001b[0;34m:\u001b[0m\u001b[0;34m\u001b[0m\u001b[0m\n\u001b[1;32m   1123\u001b[0m       results = self._do_run(handle, final_targets, final_fetches,\n\u001b[0;32m-> 1124\u001b[0;31m                              feed_dict_tensor, options, run_metadata)\n\u001b[0m\u001b[1;32m   1125\u001b[0m     \u001b[0;32melse\u001b[0m\u001b[0;34m:\u001b[0m\u001b[0;34m\u001b[0m\u001b[0m\n\u001b[1;32m   1126\u001b[0m       \u001b[0mresults\u001b[0m \u001b[0;34m=\u001b[0m \u001b[0;34m[\u001b[0m\u001b[0;34m]\u001b[0m\u001b[0;34m\u001b[0m\u001b[0m\n",
      "\u001b[0;32m~/anaconda3/lib/python3.6/site-packages/tensorflow/python/client/session.py\u001b[0m in \u001b[0;36m_do_run\u001b[0;34m(self, handle, target_list, fetch_list, feed_dict, options, run_metadata)\u001b[0m\n\u001b[1;32m   1319\u001b[0m     \u001b[0;32mif\u001b[0m \u001b[0mhandle\u001b[0m \u001b[0;32mis\u001b[0m \u001b[0;32mNone\u001b[0m\u001b[0;34m:\u001b[0m\u001b[0;34m\u001b[0m\u001b[0m\n\u001b[1;32m   1320\u001b[0m       return self._do_call(_run_fn, self._session, feeds, fetches, targets,\n\u001b[0;32m-> 1321\u001b[0;31m                            options, run_metadata)\n\u001b[0m\u001b[1;32m   1322\u001b[0m     \u001b[0;32melse\u001b[0m\u001b[0;34m:\u001b[0m\u001b[0;34m\u001b[0m\u001b[0m\n\u001b[1;32m   1323\u001b[0m       \u001b[0;32mreturn\u001b[0m \u001b[0mself\u001b[0m\u001b[0;34m.\u001b[0m\u001b[0m_do_call\u001b[0m\u001b[0;34m(\u001b[0m\u001b[0m_prun_fn\u001b[0m\u001b[0;34m,\u001b[0m \u001b[0mself\u001b[0m\u001b[0;34m.\u001b[0m\u001b[0m_session\u001b[0m\u001b[0;34m,\u001b[0m \u001b[0mhandle\u001b[0m\u001b[0;34m,\u001b[0m \u001b[0mfeeds\u001b[0m\u001b[0;34m,\u001b[0m \u001b[0mfetches\u001b[0m\u001b[0;34m)\u001b[0m\u001b[0;34m\u001b[0m\u001b[0m\n",
      "\u001b[0;32m~/anaconda3/lib/python3.6/site-packages/tensorflow/python/client/session.py\u001b[0m in \u001b[0;36m_do_call\u001b[0;34m(self, fn, *args)\u001b[0m\n\u001b[1;32m   1325\u001b[0m   \u001b[0;32mdef\u001b[0m \u001b[0m_do_call\u001b[0m\u001b[0;34m(\u001b[0m\u001b[0mself\u001b[0m\u001b[0;34m,\u001b[0m \u001b[0mfn\u001b[0m\u001b[0;34m,\u001b[0m \u001b[0;34m*\u001b[0m\u001b[0margs\u001b[0m\u001b[0;34m)\u001b[0m\u001b[0;34m:\u001b[0m\u001b[0;34m\u001b[0m\u001b[0m\n\u001b[1;32m   1326\u001b[0m     \u001b[0;32mtry\u001b[0m\u001b[0;34m:\u001b[0m\u001b[0;34m\u001b[0m\u001b[0m\n\u001b[0;32m-> 1327\u001b[0;31m       \u001b[0;32mreturn\u001b[0m \u001b[0mfn\u001b[0m\u001b[0;34m(\u001b[0m\u001b[0;34m*\u001b[0m\u001b[0margs\u001b[0m\u001b[0;34m)\u001b[0m\u001b[0;34m\u001b[0m\u001b[0m\n\u001b[0m\u001b[1;32m   1328\u001b[0m     \u001b[0;32mexcept\u001b[0m \u001b[0merrors\u001b[0m\u001b[0;34m.\u001b[0m\u001b[0mOpError\u001b[0m \u001b[0;32mas\u001b[0m \u001b[0me\u001b[0m\u001b[0;34m:\u001b[0m\u001b[0;34m\u001b[0m\u001b[0m\n\u001b[1;32m   1329\u001b[0m       \u001b[0mmessage\u001b[0m \u001b[0;34m=\u001b[0m \u001b[0mcompat\u001b[0m\u001b[0;34m.\u001b[0m\u001b[0mas_text\u001b[0m\u001b[0;34m(\u001b[0m\u001b[0me\u001b[0m\u001b[0;34m.\u001b[0m\u001b[0mmessage\u001b[0m\u001b[0;34m)\u001b[0m\u001b[0;34m\u001b[0m\u001b[0m\n",
      "\u001b[0;32m~/anaconda3/lib/python3.6/site-packages/tensorflow/python/client/session.py\u001b[0m in \u001b[0;36m_run_fn\u001b[0;34m(session, feed_dict, fetch_list, target_list, options, run_metadata)\u001b[0m\n\u001b[1;32m   1304\u001b[0m           return tf_session.TF_Run(session, options,\n\u001b[1;32m   1305\u001b[0m                                    \u001b[0mfeed_dict\u001b[0m\u001b[0;34m,\u001b[0m \u001b[0mfetch_list\u001b[0m\u001b[0;34m,\u001b[0m \u001b[0mtarget_list\u001b[0m\u001b[0;34m,\u001b[0m\u001b[0;34m\u001b[0m\u001b[0m\n\u001b[0;32m-> 1306\u001b[0;31m                                    status, run_metadata)\n\u001b[0m\u001b[1;32m   1307\u001b[0m \u001b[0;34m\u001b[0m\u001b[0m\n\u001b[1;32m   1308\u001b[0m     \u001b[0;32mdef\u001b[0m \u001b[0m_prun_fn\u001b[0m\u001b[0;34m(\u001b[0m\u001b[0msession\u001b[0m\u001b[0;34m,\u001b[0m \u001b[0mhandle\u001b[0m\u001b[0;34m,\u001b[0m \u001b[0mfeed_dict\u001b[0m\u001b[0;34m,\u001b[0m \u001b[0mfetch_list\u001b[0m\u001b[0;34m)\u001b[0m\u001b[0;34m:\u001b[0m\u001b[0;34m\u001b[0m\u001b[0m\n",
      "\u001b[0;31mKeyboardInterrupt\u001b[0m: "
     ]
    }
   ],
   "source": [
    "total_loss = 0\n",
    "for epoch in range(MAX_EPOCH):    \n",
    "    for i in range(total_batch):\n",
    "        batch = mnist.train.next_batch(batch_size=BATCH_SIZE, shuffle=True)\n",
    "        _, loss = sess.run([opt, cost], feed_dict={images: batch[0], labels: batch[1], training: True})\n",
    "    \n",
    "        if i % 100 == 0:\n",
    "            test_acc = sess.run(cost,\n",
    "                 feed_dict={images: mnist.test.images, labels: mnist.test.labels, training:False}\n",
    "            )\n",
    "            print('Test accuracy: {}'.format(test_acc))\n",
    "        total_loss += loss\n",
    "    print('{} epochs completed'.format(epoch))"
>>>>>>> 84fb67b013429bde055bc839ce58a43c261abf96
   ]
  },
  {
   "cell_type": "code",
<<<<<<< HEAD
   "execution_count": 9,
=======
   "execution_count": null,
>>>>>>> 84fb67b013429bde055bc839ce58a43c261abf96
   "metadata": {
    "collapsed": true
   },
   "outputs": [],
<<<<<<< HEAD
   "source": [
    "# Evaluate the model and print results\n",
    "eval_input_fn = tf.estimator.inputs.numpy_input_fn(x=mnist.test.images, y=mnist.test.labels.astype(np.int32), num_epochs=1, shuffle=False)"
   ]
  },
  {
   "cell_type": "code",
   "execution_count": 11,
   "metadata": {},
   "outputs": [
    {
     "name": "stdout",
     "output_type": "stream",
     "text": [
      "INFO:tensorflow:Calling model_fn.\n",
      "INFO:tensorflow:Done calling model_fn.\n",
      "INFO:tensorflow:Starting evaluation at 2018-03-30-14:03:53\n",
      "INFO:tensorflow:Graph was finalized.\n",
      "INFO:tensorflow:Restoring parameters from tmp/mnist_net\\model.ckpt-600\n",
      "INFO:tensorflow:Running local_init_op.\n",
      "INFO:tensorflow:Done running local_init_op.\n",
      "INFO:tensorflow:Finished evaluation at 2018-03-30-14:03:56\n",
      "INFO:tensorflow:Saving dict for global step 600: accuracy = 0.9512, global_step = 600, loss = 0.16221817\n",
      "{'accuracy': 0.9512, 'loss': 0.16221817, 'global_step': 600}\n"
     ]
    }
   ],
   "source": [
    "eval_results = mnist_net.evaluate(input_fn=eval_input_fn)\n",
    "print(eval_results)"
   ]
=======
   "source": []
  },
  {
   "cell_type": "code",
   "execution_count": null,
   "metadata": {
    "collapsed": true
   },
   "outputs": [],
   "source": []
>>>>>>> 84fb67b013429bde055bc839ce58a43c261abf96
  },
  {
   "cell_type": "code",
   "execution_count": null,
   "metadata": {
    "collapsed": true
   },
   "outputs": [],
   "source": []
  },
  {
   "cell_type": "code",
   "execution_count": null,
   "metadata": {
    "collapsed": true
   },
   "outputs": [],
   "source": []
  },
  {
   "cell_type": "code",
   "execution_count": null,
   "metadata": {
    "collapsed": true
   },
   "outputs": [],
   "source": []
  },
  {
   "cell_type": "code",
   "execution_count": null,
   "metadata": {
    "collapsed": true
   },
   "outputs": [],
   "source": []
  }
 ],
 "metadata": {
  "kernelspec": {
   "display_name": "Python 3",
   "language": "python",
   "name": "python3"
  },
  "language_info": {
   "codemirror_mode": {
    "name": "ipython",
    "version": 3
   },
   "file_extension": ".py",
   "mimetype": "text/x-python",
   "name": "python",
   "nbconvert_exporter": "python",
   "pygments_lexer": "ipython3",
   "version": "3.6.1"
  }
 },
 "nbformat": 4,
 "nbformat_minor": 2
}
