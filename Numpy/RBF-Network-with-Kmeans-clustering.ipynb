{
 "cells": [
  {
   "cell_type": "markdown",
   "metadata": {},
   "source": [
    "# RBF Network with Kmeans Clustering"
   ]
  },
  {
   "cell_type": "markdown",
   "metadata": {},
   "source": [
    "K-means Clustering과 함께 RBF를 사용할 경우 데이터가 적고 대표하지 못할 경우 성능이 낮게 나올 수 있음."
   ]
  },
  {
   "cell_type": "markdown",
   "metadata": {},
   "source": [
    "# Input"
   ]
  },
  {
   "cell_type": "markdown",
   "metadata": {},
   "source": [
    "Using python3.6, Anaconda, Windows10"
   ]
  },
  {
   "cell_type": "code",
   "execution_count": 1,
   "metadata": {
    "collapsed": true
   },
   "outputs": [],
   "source": [
    "import os, sys\n",
    "import numpy as np\n",
    "import pandas as pd\n",
    "import six.moves.cPickle as pickle\n",
    "import gzip\n",
    "import time\n",
    "import scipy.misc"
   ]
  },
  {
   "cell_type": "code",
   "execution_count": 2,
   "metadata": {
    "collapsed": true
   },
   "outputs": [],
   "source": [
    "from matplotlib.pyplot import cm"
   ]
  },
  {
   "cell_type": "code",
   "execution_count": 3,
   "metadata": {},
   "outputs": [],
   "source": [
    "import matplotlib.pyplot as plt\n",
    "%matplotlib inline"
   ]
  },
  {
   "cell_type": "code",
   "execution_count": 114,
   "metadata": {
    "scrolled": true
   },
   "outputs": [],
   "source": [
    "def load_file(file_name, col_names=None):\n",
    "    data_dir = 'train_test_files'\n",
    "    file_path = os.path.join(data_dir, file_name)\n",
    "    df = pd.read_csv(file_path, sep='\\t', names=col_names)\n",
    "    return df.iloc[:,:-1].values, df.iloc[:,-1].values"
   ]
  },
  {
   "cell_type": "code",
   "execution_count": 116,
   "metadata": {},
   "outputs": [],
   "source": [
    "cis_train1_x, cis_train1_y = load_file('cis_train1.txt', ['circles', 'squares', 'labels'])\n",
    "cis_train2_x, cis_train2_y = load_file('cis_train2.txt', ['circles', 'squares', 'labels'])\n",
    "cis_train_x = np.concatenate((cis_train1_x, cis_train2_x))\n",
    "cis_train_y = np.concatenate((cis_train1_y, cis_train2_y))\n",
    "cis_test_x, cis_test_y = load_file('cis_test.txt', ['circles', 'squares', 'labels'])"
   ]
  },
  {
   "cell_type": "code",
   "execution_count": 115,
   "metadata": {
    "collapsed": true
   },
   "outputs": [],
   "source": [
    "fa_train1_x, fa_train1_y = load_file('fa_train1.txt', ['f', 'a'])\n",
    "fa_train2_x, fa_train2_y = load_file('fa_train2.txt', ['f', 'a'])\n",
    "fa_train_x = np.concatenate((fa_train1_x, fa_train2_x))\n",
    "fa_train_y = np.concatenate((fa_train1_y, fa_train2_y))\n",
    "fa_test_x, fa_test_y = load_file('fa_test.txt', ['f', 'a'])"
   ]
  },
  {
   "cell_type": "markdown",
   "metadata": {},
   "source": [
    "# Step 1: K-Means Algorithm"
   ]
  },
  {
   "cell_type": "code",
   "execution_count": 84,
   "metadata": {
    "collapsed": true
   },
   "outputs": [],
   "source": [
    "class Kmeans:\n",
    "    def __init__(self, k, data, no_iter=100, optimized=True):\n",
    "        self.k = k\n",
    "        total_loss = []\n",
    "        # Random initialization\n",
    "        cluster_centers = np.random.random([k, data.shape[-1]])\n",
    "        # Calculate Distance of each point to every cluster centers.\n",
    "        dist_vec = np.zeros([k, data.shape[0]])\n",
    "        cur = 0\n",
    "        while(cur < no_iter):\n",
    "            for idx, _center in enumerate(cluster_centers):\n",
    "                dist_vec[idx] = np.sum(np.square(np.subtract(np.broadcast_to(_center, data.shape), data)), axis=1) # (50000, )\n",
    "            # Determine Argmin center\n",
    "            labels = np.argmin(dist_vec, axis=0)\n",
    "            loss = 0\n",
    "            for idx in range(k):\n",
    "                # Check Cluster Balance\n",
    "                if data[labels == idx].shape[0] < 2: # Degrees should be greater than 0\n",
    "                    cluster_centers = np.random.random([k, data.shape[-1]])\n",
    "                    cur = -1\n",
    "                    break\n",
    "                # Calculate Loss J\n",
    "                loss += np.sum(dist_vec[idx][labels == idx])\n",
    "                # Update cluster centers\n",
    "                cluster_centers[idx] = np.average(data[labels == idx], axis=0) # dim 784\n",
    "            if cur >= 0:\n",
    "                total_loss.append(loss)\n",
    "            if optimized and cur > 1 and (total_loss[-1] == total_loss[-2]):\n",
    "                break\n",
    "            cur += 1\n",
    "        print('Iterations: {}'.format(len(total_loss)))\n",
    "        self.centers, self.labels, self.total_loss = cluster_centers, labels, total_loss\n",
    "    \n",
    "    def predict(self, data):\n",
    "        dist_vec = np.zeros([self.k, data.shape[0]])\n",
    "        for idx, _center in enumerate(self.centers):\n",
    "            dist_vec[idx] = np.sum(np.square(np.subtract(np.broadcast_to(_center, data.shape), data)), axis=1) # (50000, )\n",
    "        return np.argmin(dist_vec, axis=0)\n",
    "    "
   ]
  },
  {
   "cell_type": "code",
   "execution_count": 122,
   "metadata": {
    "scrolled": true
   },
   "outputs": [
    {
     "name": "stdout",
     "output_type": "stream",
     "text": [
      "Iterations: 23\n"
     ]
    },
    {
     "data": {
      "image/png": "[encoded data removed]",
      "text/plain": [
       "<matplotlib.figure.Figure at 0x234ef58a9e8>"
      ]
     },
     "metadata": {},
     "output_type": "display_data"
    }
   ],
   "source": [
    "k = 30\n",
    "kmeans = Kmeans(k, cis_train_x)\n",
    "fig = plt.figure\n",
    "color=iter(cm.rainbow(np.linspace(0,1,k)))\n",
    "pred = kmeans.predict(cis_train_x)\n",
    "for i in range(k):\n",
    "    c = next(color)\n",
    "    plt.plot(cis_train_x[pred == i][:,0], cis_train_x[pred == i][:,1], '.', c=c)\n",
    "    plt.plot(kmeans.centers[i,0], kmeans.centers[i,1], 'ko')"
   ]
  },
  {
   "cell_type": "markdown",
   "metadata": {},
   "source": [
    "# Step 2: RBF Network"
   ]
  },
  {
   "cell_type": "code",
   "execution_count": 195,
   "metadata": {},
   "outputs": [],
   "source": [
    "class RBFNetwork:\n",
    "    def __init__(self, no_basis, no_labels, learning_rate=0.01):\n",
    "        self.no_basis = no_basis\n",
    "        self.no_labels = no_labels\n",
    "        self.mu, self.sigma = np.zeros([0]), np.zeros([0])\n",
    "        self.weights = np.random.normal(0, 0.05, [no_basis+1, no_labels]) # including bias 1\n",
    "        self.output = np.zeros([0])\n",
    "        self.loss = 0\n",
    "        \n",
    "    def train(self, data, labels):\n",
    "        self._back_propagate(data, labels)\n",
    "        self.loss = self.get_loss(data, labels)\n",
    "        print(\"RBF Loss(MSE): {:.4f}\".format(self.loss))\n",
    "           \n",
    "    def predict(self, data):\n",
    "        self._propagate(data)\n",
    "        return self.output\n",
    "    \n",
    "    def get_loss(self, data, labels):\n",
    "        # Return: MSE loss\n",
    "        return np.mean(np.square(self.predict(data) - labels))\n",
    "    \n",
    "    def test(self, data, labels, threshold=None):\n",
    "        if threshold:\n",
    "            return np.mean((self.predict(data) > threshold).astype(np.int16) == labels)\n",
    "        return self.get_loss(data, labels)\n",
    "    \n",
    "    def _propagate(self, data):\n",
    "        # initial propagate\n",
    "        if not self.mu.any():\n",
    "            self.mu, self.sigma = self._calculate_param(self.no_basis, data)\n",
    "        self.basis = np.zeros([data.shape[0], self.no_basis+1])\n",
    "        self.basis[:,0] = np.ones([data.shape[0]]) # for Bias\n",
    "        # apply RBF kernels\n",
    "        for i in range(data.shape[0]):\n",
    "            self.basis[i,1:] = self._gaussian_kernels(data[i], self.mu, self.sigma)\n",
    "        # output\n",
    "        self.output = np.dot(self.basis, self.weights) # (no_data, no_labels)\n",
    "                \n",
    "    def _back_propagate(self, data, labels):\n",
    "        self._propagate(data)\n",
    "        self.weights = np.dot(np.dot(np.linalg.pinv(np.dot(self.basis.T, self.basis)), self.basis.T), labels)\n",
    "    \n",
    "    def _calculate_param(self, k, data):\n",
    "        # Calculate means & variances using K-Means Clustering\n",
    "        print(\"Kmeans Training\")\n",
    "        kmeans = Kmeans(k, data)\n",
    "        cluster_means, cluster_vars = [], []\n",
    "        for i in range(k):\n",
    "            cluster_elements = data[kmeans.predict(data) == i]\n",
    "            cluster_means.append(np.mean(cluster_elements, axis=0))\n",
    "            if data.ndim == 1 or data.shape[-1] == 1: # univariate\n",
    "                cluster_vars.append(np.var(cluster_elements))\n",
    "            else: # multivariate\n",
    "                cluster_vars.append(np.linalg.pinv(np.cov(cluster_elements.T)))\n",
    "        print(\"Kmeans Training Complete\")\n",
    "        return np.array(cluster_means), np.array(cluster_vars)\n",
    "    \n",
    "    def _gaussian_kernels(self, x, mu, sigma):\n",
    "        if mu.ndim == 1:\n",
    "            hidden_nodes = np.zeros(mu.shape[0])\n",
    "            for j in range(mu.shape[0]): # (k,dim)\n",
    "                return np.exp(-np.divide(np.square(x-mu[j]), 2*np.square(sigma[j])))\n",
    "            return hidden_nodes\n",
    "        else:\n",
    "            hidden_nodes = np.zeros(mu.shape[0])\n",
    "            for j in range(mu.shape[0]): # (k,dim)\n",
    "                # (X-u).T*Sigma*(X-u)\n",
    "                hidden_nodes[j] = np.exp(-np.divide(np.dot(np.dot((x-mu[j]).T, sigma[j]), x-mu[j]),2))\n",
    "            return hidden_nodes"
   ]
  },
  {
   "cell_type": "markdown",
   "metadata": {},
   "source": [
    "# Circle in Square Data"
   ]
  },
  {
   "cell_type": "code",
   "execution_count": 339,
   "metadata": {
    "scrolled": false
   },
   "outputs": [
    {
     "name": "stdout",
     "output_type": "stream",
     "text": [
      "Kmeans Training\n",
      "Iterations: 21\n",
      "Kmeans Training Complete\n",
      "RBF Loss(MSE): 0.0608\n"
     ]
    }
   ],
   "source": [
    "rbf = RBFNetwork(no_basis=100, no_labels=1)\n",
    "rbf.train(cis_train_x, cis_train_y)"
   ]
  },
  {
   "cell_type": "code",
   "execution_count": 340,
   "metadata": {},
   "outputs": [
    {
     "name": "stdout",
     "output_type": "stream",
     "text": [
      "Training Accuracy: 0.9700\n",
      "Training Accuracy: 0.9650\n",
      "Test Accuracy: 0.9387\n"
     ]
    }
   ],
   "source": [
    "print('Training Accuracy: {:.4f}'.format(rbf.test(cis_train1_x, cis_train1_y, 0.5)))\n",
    "print('Training Accuracy: {:.4f}'.format(rbf.test(cis_train2_x, cis_train2_y, 0.5)))\n",
    "print('Test Accuracy: {:.4f}'.format(rbf.test(cis_test_x, cis_test_y, 0.5)))"
   ]
  },
  {
   "cell_type": "markdown",
   "metadata": {},
   "source": [
    "# Function Approximation Data"
   ]
  },
  {
   "cell_type": "code",
   "execution_count": 343,
   "metadata": {},
   "outputs": [
    {
     "name": "stdout",
     "output_type": "stream",
     "text": [
      "Kmeans Training\n",
      "Iterations: 6\n",
      "Kmeans Training Complete\n",
      "RBF Loss(MSE): 0.0344\n"
     ]
    }
   ],
   "source": [
    "rbf = RBFNetwork(no_basis=10, no_labels=1)\n",
    "rbf.train(fa_train_x, fa_train_y)"
   ]
  },
  {
   "cell_type": "code",
   "execution_count": 344,
   "metadata": {
    "scrolled": false
   },
   "outputs": [
    {
     "name": "stdout",
     "output_type": "stream",
     "text": [
      "Training-1 MSE Loss: 0.0310\n",
      "Training-2 MSE Loss: 0.0197\n",
      "Test MSE Loss: 0.0313\n"
     ]
    }
   ],
   "source": [
    "print('Training-1 MSE Loss: {:.4f}'.format(rbf.test(fa_train1_x, fa_train1_y)))\n",
    "print('Training-2 MSE Loss: {:.4f}'.format(rbf.test(fa_train2_y, fa_train2_y)))\n",
    "print('Test MSE Loss: {:.4f}'.format(rbf.test(fa_test_x, fa_test_y)))"
   ]
  },
  {
   "cell_type": "code",
   "execution_count": null,
   "metadata": {
    "collapsed": true
   },
   "outputs": [],
   "source": []
  }
 ],
 "metadata": {
  "anaconda-cloud": {},
  "kernelspec": {
   "display_name": "Python 3",
   "language": "python",
   "name": "python3"
  },
  "language_info": {
   "codemirror_mode": {
    "name": "ipython",
    "version": 3
   },
   "file_extension": ".py",
   "mimetype": "text/x-python",
   "name": "python",
   "nbconvert_exporter": "python",
   "pygments_lexer": "ipython3",
   "version": "3.6.1"
  }
 },
 "nbformat": 4,
 "nbformat_minor": 2
}
